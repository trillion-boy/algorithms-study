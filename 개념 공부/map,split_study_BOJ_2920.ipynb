{
  "nbformat": 4,
  "nbformat_minor": 0,
  "metadata": {
    "colab": {
      "provenance": [],
      "authorship_tag": "ABX9TyP4zxfgv8/SDFVyTGmI/tW7",
      "include_colab_link": true
    },
    "kernelspec": {
      "name": "python3",
      "display_name": "Python 3"
    },
    "language_info": {
      "name": "python"
    }
  },
  "cells": [
    {
      "cell_type": "markdown",
      "metadata": {
        "id": "view-in-github",
        "colab_type": "text"
      },
      "source": [
        "<a href=\"https://colab.research.google.com/github/trillion-boy/algorithms-study/blob/main/%EA%B0%9C%EB%85%90%20%EA%B3%B5%EB%B6%80/map%2Csplit_study_BOJ_2920.ipynb\" target=\"_parent\"><img src=\"https://colab.research.google.com/assets/colab-badge.svg\" alt=\"Open In Colab\"/></a>"
      ]
    },
    {
      "cell_type": "markdown",
      "source": [
        "### **map, split 연계 method 활용법**\n",
        "\n",
        "1. 먼저 입력 데이터가 어떻게 주어지는지 형태를 파악하자!\n",
        "\n",
        "* 질문: \"입력 데이터가 어떻게 주어지는가?\"\n",
        "* 문제 분석: 1 2 3 4 5 6 7 8 처럼 **한 줄에 여러 개의 숫자가 공백(스페이스)**로 구분되어있을 경우\n",
        "\n",
        "2. input() 함수의 기본 동작 이해하기\n",
        "\n",
        "* 지식: 파이썬의 input() 함수는 사용자가 입력한 한 줄 전체를 **하나의 문자열(string)**로 받아들인다.\n",
        "\n",
        "* 적용: input() 을 실행하고 1 2 3 4 5 6 7 8을 입력하면, 컴퓨터는 이 값을 숫자들의 나열이 아닌, \"1 2 3 4 5 6 7 8\"이라는 단일 문자열로 인식한다.\n",
        "\n",
        "3. 데이터 분리의 필요성 인지하기\n",
        "\n",
        "* 질문: \"하나의 긴 문자열을 어떻게 개별 데이터로 나눌 수 있을까?\"\n",
        "* 해결책: 문자열을 특정 규칙(여기서는 공백)에 따라 잘라주는 도구가 필요하다. 바로 문자열의 **split()** 메서드.\n",
        "input().split()를 실행하면 \"1 2 3 4 5 6 7 8\" 문자열이 공백을 기준으로 나뉘어 ['1', '2', '3', '4', '5', '6', '7', '8']와 같은 문자열의 리스트가 된다.\n",
        "\n",
        "4. 데이터 타입 변환의 필요성 인지하기\n",
        "\n",
        "* 질문: 나눠진 데이터로 숫자 계산이나 크기 비교를 할 수 있는가?\n",
        "* 문제점: split()의 결과물은 ['1', '2', ...]처럼 각 요소가 여전히 문자열이다. 문자열 '1'과 숫자 1은 다르다. 문자열끼리는 숫자처럼 덧셈이나 크기 비교를 할 수 없다.\n",
        "* 해결책: 리스트의 모든 문자열을 **숫자(정수형, int)**로 바꿔줘야 한다.\n",
        "\n",
        "5. 효율적인 반복 작업 떠올리기\n",
        "* 질문: 리스트의 모든 요소에 동일한 작업(문자열을 정수로 변환)을 어떻게 효율적으로 적용할까?\n",
        "* 방법1(반복문): for 문을 사용해 리스트를 하나씩 돌면서 int() 함수를 적용할 수 있다.\n",
        "\n",
        "\n",
        "```\n",
        "string_list = ['1', '2', '3']\n",
        "num_list = []\n",
        "for s in string_list:\n",
        "  num_list.append(int(s))\n",
        "```\n",
        "* 방법2 (더 간결한 방법): 이처럼 '반복 가능한(iterable) 객체의 모든 요소에 특정 함수를 일괄 적용하고 싶을 때 사용하는 파이썬의 강력한 도구가 바로 **map()**함수이다. **map(적용할_함수, 데이터_리스트)** 형태로 사용한다.\n",
        "* 적용: map(int, input().split()) 코드는 \"입력을 받아 공백으로 나눈 뒤(split), 그 각각의 요소에 int 함수를 적용(map)하라\"는 의미\n",
        "\n",
        "6. 결과를 리스트로 저장하기\n",
        "* 지식: map() 함수의 결과는 정확히는 리스트가 아니라 'map 객체'라는 특별한 형태이다. 눈에 보이는 리스트로 만들고 인덱스로 접근하려면 list() 함수로 한 번 더 감싸주어야 한다.\n",
        "* 최종 코드: 이 모든 과정을 종합하여 arr = list(map(int, input().split())) 라는 한 줄의 코드가 완성된다.\n",
        "\n",
        "\n",
        "\n",
        "\n",
        "\n",
        "\n"
      ],
      "metadata": {
        "id": "O5zxb8V05bC4"
      }
    },
    {
      "cell_type": "markdown",
      "source": [
        "--------------------------------------------------------------------------------\n",
        "\n",
        "예제 1: 사칙연산\n",
        "* 문제: 공백으로 구분된 두 개의 정수를 입력받아, 두 수의 합, 차, 곱을 각각 다른 줄에 출력하는 프로그램을 작성하세요.\n",
        "* 입력 예시: 10 5\n",
        "* 출력 예시:\n",
        "\n",
        "\n",
        "```\n",
        "15\n",
        "5\n",
        "50\n",
        "```\n",
        "\n"
      ],
      "metadata": {
        "id": "DyK9Qk_nHDJX"
      }
    },
    {
      "cell_type": "code",
      "execution_count": 3,
      "metadata": {
        "colab": {
          "base_uri": "https://localhost:8080/"
        },
        "id": "OHf1MNJm5W-d",
        "outputId": "c78ce208-6acd-43d4-80f6-20aaa541cad3"
      },
      "outputs": [
        {
          "output_type": "stream",
          "name": "stdout",
          "text": [
            "10 5\n",
            "15\n",
            "5\n",
            "50\n"
          ]
        }
      ],
      "source": [
        "num = list(map(int, input().split()))\n",
        "print(num[0]+num[1])\n",
        "print(num[0]-num[1])\n",
        "print(num[0]*num[1])"
      ]
    },
    {
      "cell_type": "markdown",
      "source": [
        "예제 2:  숫자 리스트 통계\n",
        "\n",
        "* 문제: 공백으로 구분된 여러 개의 정수를 한 줄에 입력받아, 그 숫자들의 최댓값, 최솟값, 그리고 평균을 출력하는 프로그램을 작성하세요. (평균은 소수점까지 표현)\n",
        "* 입력 예시: 10 55 23 8 91 17\n",
        "* 출력 예시:\n",
        "\n",
        "\n",
        "```\n",
        "최댓값: 91\n",
        "최솟값: 8\n",
        "평균: 34.0\n",
        "```\n",
        "\n",
        "\n"
      ],
      "metadata": {
        "id": "R7G6jtmzISWu"
      }
    },
    {
      "cell_type": "code",
      "source": [
        "nums = list(map(int, input().split()))\n",
        "print(f\"최댓값: {max(nums)}\")\n",
        "print(f\"최솟값: {min(nums)}\")\n",
        "print(f\"평균: {sum(nums)/len(nums):.1f}\")"
      ],
      "metadata": {
        "colab": {
          "base_uri": "https://localhost:8080/"
        },
        "id": "RsuQa25DH-Dh",
        "outputId": "c6972003-a4d5-4412-fc58-eda503cd2a27"
      },
      "execution_count": 8,
      "outputs": [
        {
          "output_type": "stream",
          "name": "stdout",
          "text": [
            "10 55 23 8 91 17\n",
            "최댓값: 91\n",
            "최솟값: 8\n",
            "평균: 34.0\n"
          ]
        }
      ]
    },
    {
      "cell_type": "markdown",
      "source": [
        "예제 3: 쉼표로 구분된 데이터 처리\n",
        "* 문제: split() 메서드는 특정 문자를 기준으로 문자열을 나눌 수 있습니다. 쉽표(,)로 구분된 과일 이름들을 입력받아, 각 과일 이름을 한 줄에 하나씩 출력하세요.\n",
        "* 입력 예시: apple,banana,kiwi,orange\n",
        "* 출력 예시:\n",
        "\n",
        "\n",
        "```\n",
        "apple\n",
        "banana\n",
        "kiwi\n",
        "orange\n",
        "```\n",
        "\n"
      ],
      "metadata": {
        "id": "TICl96wgn88o"
      }
    },
    {
      "cell_type": "code",
      "source": [
        "fruits = list(input().split(','))\n",
        "for fruit in fruits:\n",
        "  print(fruit)"
      ],
      "metadata": {
        "colab": {
          "base_uri": "https://localhost:8080/"
        },
        "id": "hsWwaviKJBSP",
        "outputId": "84491e6b-bb25-40e9-d4bf-6487722fa358"
      },
      "execution_count": 5,
      "outputs": [
        {
          "output_type": "stream",
          "name": "stdout",
          "text": [
            "a,d,s,d,f,g,g\n",
            "a\n",
            "d\n",
            "s\n",
            "d\n",
            "f\n",
            "g\n",
            "g\n"
          ]
        }
      ]
    },
    {
      "cell_type": "markdown",
      "source": [
        "예제 4: 화씨 변환기\n",
        "\n",
        "* 문제: 공백으로 구분된 섭씨(Celsius) 온도 여러 개가 소수점을 포함하여 주어집니다. 각 섭씨 온도를 화씨(Fahrenheit) 온도로 변환하여 리스트 형태로 출력하세요.\n",
        "* 화씨 변환 공식: F=(C*9/5)+32\n",
        "입력 예시: 0 10 25.5 30\n",
        "출력 예시: [32.0, 50.0, 77.9, 86.0]"
      ],
      "metadata": {
        "id": "LKh7YmMpo9jX"
      }
    },
    {
      "cell_type": "code",
      "source": [
        "C_temps = list(map(float,input().split()))\n",
        "F_temps = []\n",
        "for temp in C_temps:\n",
        "  op = temp*9/5 + 32\n",
        "  F_temps.append(op)\n",
        "\n",
        "print(F_temps)"
      ],
      "metadata": {
        "colab": {
          "base_uri": "https://localhost:8080/"
        },
        "id": "KX1Azls6oguX",
        "outputId": "271d3877-80f1-45ed-c429-847a3a57366c"
      },
      "execution_count": 8,
      "outputs": [
        {
          "output_type": "stream",
          "name": "stdout",
          "text": [
            "0 10 25.5 30\n",
            "[32.0, 50.0, 77.9, 86.0]\n"
          ]
        }
      ]
    },
    {
      "cell_type": "markdown",
      "source": [
        "예제 5: 단어 길이 측정기\n",
        "* 문제: 영어 문장 하나를 입력받아, 문장을 구성하는 각 단어의 길이를 리스트에 담아 출력하세요.\n",
        "* 입력 예시: Hello World this is Python\n",
        "* 출력 예시: [5, 5, 4, 2, 6]"
      ],
      "metadata": {
        "id": "NxkXwAmmqVJ7"
      }
    },
    {
      "cell_type": "code",
      "source": [
        "sentences = list(input().split())\n",
        "length = []\n",
        "for word in sentences:\n",
        "  op = len(word)\n",
        "  length.append(op)\n",
        "print(length)"
      ],
      "metadata": {
        "colab": {
          "base_uri": "https://localhost:8080/"
        },
        "id": "R7qBXC9qp2zn",
        "outputId": "195e79da-421f-45f1-d4d4-db66d9bd3f33"
      },
      "execution_count": 9,
      "outputs": [
        {
          "output_type": "stream",
          "name": "stdout",
          "text": [
            "Hello World this is Python\n",
            "[5, 5, 4, 2, 6]\n"
          ]
        }
      ]
    },
    {
      "cell_type": "code",
      "source": [
        "nums = list(map(int, input().split()))\n",
        "for i in range(len(nums)-1):\n",
        "  if nums[i] < nums[i+1]:\n",
        "    print('ascending')\n",
        "  elif nums[i] > nums[i+1]:\n",
        "    print('descending')\n",
        "  else:\n",
        "    print('mixed')"
      ],
      "metadata": {
        "colab": {
          "base_uri": "https://localhost:8080/"
        },
        "id": "7JPXzuYjsPoc",
        "outputId": "73c30c4c-a8bd-4eab-e9f1-700055455865"
      },
      "execution_count": 12,
      "outputs": [
        {
          "output_type": "stream",
          "name": "stdout",
          "text": [
            "8 1 7 2 6 3 5 4\n",
            "descending\n",
            "ascending\n",
            "descending\n",
            "ascending\n",
            "descending\n",
            "ascending\n",
            "descending\n"
          ]
        }
      ]
    },
    {
      "cell_type": "code",
      "source": [
        "nums = list(map(int, input().split()))\n",
        "if nums == sorted(nums):\n",
        "  print(\"ascending\")\n",
        "elif nums == sorted(nums, reverse=True):\n",
        "  print(\"descending\")\n",
        "else:\n",
        "  print(\"mixed\")"
      ],
      "metadata": {
        "colab": {
          "base_uri": "https://localhost:8080/"
        },
        "id": "gR1bTPrEtmoN",
        "outputId": "ae44e233-32a7-4d22-ca3e-1b3d02feb9a3"
      },
      "execution_count": 13,
      "outputs": [
        {
          "output_type": "stream",
          "name": "stdout",
          "text": [
            "1 2 3 4 3 2 1\n",
            "mixed\n"
          ]
        }
      ]
    },
    {
      "cell_type": "code",
      "source": [],
      "metadata": {
        "id": "55-7WoiFubtq"
      },
      "execution_count": null,
      "outputs": []
    }
  ]
}